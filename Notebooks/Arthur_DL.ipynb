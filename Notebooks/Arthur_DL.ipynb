{
 "cells": [
  {
   "cell_type": "markdown",
   "id": "e62c2057-a70b-4e23-841a-bddbdb2e8750",
   "metadata": {},
   "source": [
    "# Imports"
   ]
  },
  {
   "cell_type": "code",
   "execution_count": 2,
   "id": "cd126c46-41e1-4b46-8e2d-0332bc95b7d4",
   "metadata": {},
   "outputs": [],
   "source": [
    "import keras\n",
    "import pandas as pd\n",
    "import sklearn as sk\n",
    "import matplotlib.pyplot as plt\n",
    "import seaborn as sns\n",
    "import kaggle\n",
    "from zipfile import ZipFile"
   ]
  },
  {
   "cell_type": "code",
   "execution_count": 3,
   "id": "1c5012f1-d9ce-46eb-a61f-73a420441599",
   "metadata": {},
   "outputs": [
    {
     "data": {
      "text/html": [
       "<div>\n",
       "<style scoped>\n",
       "    .dataframe tbody tr th:only-of-type {\n",
       "        vertical-align: middle;\n",
       "    }\n",
       "\n",
       "    .dataframe tbody tr th {\n",
       "        vertical-align: top;\n",
       "    }\n",
       "\n",
       "    .dataframe thead th {\n",
       "        text-align: right;\n",
       "    }\n",
       "</style>\n",
       "<table border=\"1\" class=\"dataframe\">\n",
       "  <thead>\n",
       "    <tr style=\"text-align: right;\">\n",
       "      <th></th>\n",
       "      <th>longitude</th>\n",
       "      <th>latitude</th>\n",
       "      <th>housing_median_age</th>\n",
       "      <th>total_rooms</th>\n",
       "      <th>total_bedrooms</th>\n",
       "      <th>population</th>\n",
       "      <th>households</th>\n",
       "      <th>median_income</th>\n",
       "      <th>median_house_value</th>\n",
       "      <th>ocean_proximity</th>\n",
       "    </tr>\n",
       "  </thead>\n",
       "  <tbody>\n",
       "    <tr>\n",
       "      <th>0</th>\n",
       "      <td>-122.23</td>\n",
       "      <td>37.88</td>\n",
       "      <td>41.0</td>\n",
       "      <td>880.0</td>\n",
       "      <td>129.0</td>\n",
       "      <td>322.0</td>\n",
       "      <td>126.0</td>\n",
       "      <td>8.3252</td>\n",
       "      <td>452600.0</td>\n",
       "      <td>NEAR BAY</td>\n",
       "    </tr>\n",
       "    <tr>\n",
       "      <th>1</th>\n",
       "      <td>-122.22</td>\n",
       "      <td>37.86</td>\n",
       "      <td>21.0</td>\n",
       "      <td>7099.0</td>\n",
       "      <td>1106.0</td>\n",
       "      <td>2401.0</td>\n",
       "      <td>1138.0</td>\n",
       "      <td>8.3014</td>\n",
       "      <td>358500.0</td>\n",
       "      <td>NEAR BAY</td>\n",
       "    </tr>\n",
       "    <tr>\n",
       "      <th>2</th>\n",
       "      <td>-122.24</td>\n",
       "      <td>37.85</td>\n",
       "      <td>52.0</td>\n",
       "      <td>1467.0</td>\n",
       "      <td>190.0</td>\n",
       "      <td>496.0</td>\n",
       "      <td>177.0</td>\n",
       "      <td>7.2574</td>\n",
       "      <td>352100.0</td>\n",
       "      <td>NEAR BAY</td>\n",
       "    </tr>\n",
       "    <tr>\n",
       "      <th>3</th>\n",
       "      <td>-122.25</td>\n",
       "      <td>37.85</td>\n",
       "      <td>52.0</td>\n",
       "      <td>1274.0</td>\n",
       "      <td>235.0</td>\n",
       "      <td>558.0</td>\n",
       "      <td>219.0</td>\n",
       "      <td>5.6431</td>\n",
       "      <td>341300.0</td>\n",
       "      <td>NEAR BAY</td>\n",
       "    </tr>\n",
       "    <tr>\n",
       "      <th>4</th>\n",
       "      <td>-122.25</td>\n",
       "      <td>37.85</td>\n",
       "      <td>52.0</td>\n",
       "      <td>1627.0</td>\n",
       "      <td>280.0</td>\n",
       "      <td>565.0</td>\n",
       "      <td>259.0</td>\n",
       "      <td>3.8462</td>\n",
       "      <td>342200.0</td>\n",
       "      <td>NEAR BAY</td>\n",
       "    </tr>\n",
       "    <tr>\n",
       "      <th>5</th>\n",
       "      <td>-122.25</td>\n",
       "      <td>37.85</td>\n",
       "      <td>52.0</td>\n",
       "      <td>919.0</td>\n",
       "      <td>213.0</td>\n",
       "      <td>413.0</td>\n",
       "      <td>193.0</td>\n",
       "      <td>4.0368</td>\n",
       "      <td>269700.0</td>\n",
       "      <td>NEAR BAY</td>\n",
       "    </tr>\n",
       "    <tr>\n",
       "      <th>6</th>\n",
       "      <td>-122.25</td>\n",
       "      <td>37.84</td>\n",
       "      <td>52.0</td>\n",
       "      <td>2535.0</td>\n",
       "      <td>489.0</td>\n",
       "      <td>1094.0</td>\n",
       "      <td>514.0</td>\n",
       "      <td>3.6591</td>\n",
       "      <td>299200.0</td>\n",
       "      <td>NEAR BAY</td>\n",
       "    </tr>\n",
       "    <tr>\n",
       "      <th>7</th>\n",
       "      <td>-122.25</td>\n",
       "      <td>37.84</td>\n",
       "      <td>52.0</td>\n",
       "      <td>3104.0</td>\n",
       "      <td>687.0</td>\n",
       "      <td>1157.0</td>\n",
       "      <td>647.0</td>\n",
       "      <td>3.1200</td>\n",
       "      <td>241400.0</td>\n",
       "      <td>NEAR BAY</td>\n",
       "    </tr>\n",
       "    <tr>\n",
       "      <th>8</th>\n",
       "      <td>-122.26</td>\n",
       "      <td>37.84</td>\n",
       "      <td>42.0</td>\n",
       "      <td>2555.0</td>\n",
       "      <td>665.0</td>\n",
       "      <td>1206.0</td>\n",
       "      <td>595.0</td>\n",
       "      <td>2.0804</td>\n",
       "      <td>226700.0</td>\n",
       "      <td>NEAR BAY</td>\n",
       "    </tr>\n",
       "    <tr>\n",
       "      <th>9</th>\n",
       "      <td>-122.25</td>\n",
       "      <td>37.84</td>\n",
       "      <td>52.0</td>\n",
       "      <td>3549.0</td>\n",
       "      <td>707.0</td>\n",
       "      <td>1551.0</td>\n",
       "      <td>714.0</td>\n",
       "      <td>3.6912</td>\n",
       "      <td>261100.0</td>\n",
       "      <td>NEAR BAY</td>\n",
       "    </tr>\n",
       "  </tbody>\n",
       "</table>\n",
       "</div>"
      ],
      "text/plain": [
       "   longitude  latitude  housing_median_age  total_rooms  total_bedrooms  \\\n",
       "0    -122.23     37.88                41.0        880.0           129.0   \n",
       "1    -122.22     37.86                21.0       7099.0          1106.0   \n",
       "2    -122.24     37.85                52.0       1467.0           190.0   \n",
       "3    -122.25     37.85                52.0       1274.0           235.0   \n",
       "4    -122.25     37.85                52.0       1627.0           280.0   \n",
       "5    -122.25     37.85                52.0        919.0           213.0   \n",
       "6    -122.25     37.84                52.0       2535.0           489.0   \n",
       "7    -122.25     37.84                52.0       3104.0           687.0   \n",
       "8    -122.26     37.84                42.0       2555.0           665.0   \n",
       "9    -122.25     37.84                52.0       3549.0           707.0   \n",
       "\n",
       "   population  households  median_income  median_house_value ocean_proximity  \n",
       "0       322.0       126.0         8.3252            452600.0        NEAR BAY  \n",
       "1      2401.0      1138.0         8.3014            358500.0        NEAR BAY  \n",
       "2       496.0       177.0         7.2574            352100.0        NEAR BAY  \n",
       "3       558.0       219.0         5.6431            341300.0        NEAR BAY  \n",
       "4       565.0       259.0         3.8462            342200.0        NEAR BAY  \n",
       "5       413.0       193.0         4.0368            269700.0        NEAR BAY  \n",
       "6      1094.0       514.0         3.6591            299200.0        NEAR BAY  \n",
       "7      1157.0       647.0         3.1200            241400.0        NEAR BAY  \n",
       "8      1206.0       595.0         2.0804            226700.0        NEAR BAY  \n",
       "9      1551.0       714.0         3.6912            261100.0        NEAR BAY  "
      ]
     },
     "execution_count": 3,
     "metadata": {},
     "output_type": "execute_result"
    }
   ],
   "source": [
    "df = pd.read_csv('../housing.csv')\n",
    "df.head(10)"
   ]
  },
  {
   "cell_type": "markdown",
   "id": "e7003e27-296f-48f1-bb35-05d6f3bcc542",
   "metadata": {},
   "source": [
    "# Cleaning"
   ]
  },
  {
   "cell_type": "code",
   "execution_count": 4,
   "id": "dc7c500f-1b2e-40a5-89f8-2bdf6eb32bed",
   "metadata": {},
   "outputs": [
    {
     "data": {
      "text/plain": [
       "longitude             0.000000\n",
       "latitude              0.000000\n",
       "housing_median_age    0.000000\n",
       "total_rooms           0.000000\n",
       "total_bedrooms        0.010029\n",
       "population            0.000000\n",
       "households            0.000000\n",
       "median_income         0.000000\n",
       "median_house_value    0.000000\n",
       "ocean_proximity       0.000000\n",
       "dtype: float64"
      ]
     },
     "execution_count": 4,
     "metadata": {},
     "output_type": "execute_result"
    }
   ],
   "source": [
    "df.isna().mean()"
   ]
  },
  {
   "cell_type": "code",
   "execution_count": 5,
   "id": "1a921d0f-be51-4939-917e-4273561ff74f",
   "metadata": {},
   "outputs": [],
   "source": [
    "df.total_bedrooms.fillna(method='pad', inplace=True)"
   ]
  },
  {
   "cell_type": "code",
   "execution_count": 6,
   "id": "54520011-4dc3-45f8-9a07-0b7f83d97f89",
   "metadata": {},
   "outputs": [
    {
     "data": {
      "text/plain": [
       "longitude             0.0\n",
       "latitude              0.0\n",
       "housing_median_age    0.0\n",
       "total_rooms           0.0\n",
       "total_bedrooms        0.0\n",
       "population            0.0\n",
       "households            0.0\n",
       "median_income         0.0\n",
       "median_house_value    0.0\n",
       "ocean_proximity       0.0\n",
       "dtype: float64"
      ]
     },
     "execution_count": 6,
     "metadata": {},
     "output_type": "execute_result"
    }
   ],
   "source": [
    "df.isna().mean()"
   ]
  },
  {
   "cell_type": "markdown",
   "id": "076d603d-0c41-4afb-bbe8-dbad3d817428",
   "metadata": {},
   "source": [
    "# Data viz"
   ]
  },
  {
   "cell_type": "code",
   "execution_count": null,
   "id": "f4db1db6-6312-45e0-9101-54512d3aae92",
   "metadata": {},
   "outputs": [],
   "source": [
    "variables = ['housing_median_age', 'total_rooms', 'total_bedrooms', \n",
    "             'population', 'households', 'median_income']\n",
    "\n",
    "fig, axes = plt.subplots(2, 3, figsize=(15, 10), sharey=True)\n",
    "sns.set()\n",
    "\n",
    "i = 0\n",
    "j = 0\n",
    "for var in variables:\n",
    "    sns.scatterplot(ax = axes[i, j], data = df, x = var, y = 'median_house_value')\n",
    "    i += 1 \n",
    "    if i%2 == 0:\n",
    "        j += 1\n",
    "        i = 0"
   ]
  },
  {
   "cell_type": "markdown",
   "id": "793f35b7-ebde-4662-ad90-406a62d9616d",
   "metadata": {},
   "source": [
    "Median income seems to have a non linear relation with the median house value."
   ]
  },
  {
   "cell_type": "markdown",
   "id": "767019b7-65d3-4f6e-af4d-6f667198a3bd",
   "metadata": {},
   "source": [
    "# Features"
   ]
  },
  {
   "cell_type": "code",
   "execution_count": 7,
   "id": "477afce4-d37b-44b7-b9fc-73cf27010494",
   "metadata": {},
   "outputs": [],
   "source": [
    "# One-hot encoding of the ocean proximity\n",
    "from sklearn.preprocessing import LabelEncoder\n",
    "\n",
    "label = LabelEncoder()\n",
    "\n",
    "df['ocean_proximity'] = label.fit_transform(df['ocean_proximity'])"
   ]
  },
  {
   "cell_type": "code",
   "execution_count": 8,
   "id": "cbb849cc-c415-4fa2-80a9-3c378d4b636c",
   "metadata": {},
   "outputs": [],
   "source": [
    "data = df"
   ]
  },
  {
   "cell_type": "markdown",
   "id": "9ee8dd67-12ea-4960-854e-e74696e0bcee",
   "metadata": {
    "tags": []
   },
   "source": [
    "# Model"
   ]
  },
  {
   "cell_type": "markdown",
   "id": "f1ccfd82-dcc3-4a66-b0ab-e86e0954281a",
   "metadata": {
    "jp-MarkdownHeadingCollapsed": true,
    "tags": []
   },
   "source": [
    "## Hyperparameters gridsearch"
   ]
  },
  {
   "cell_type": "code",
   "execution_count": null,
   "id": "b4bd0357-4987-4685-89b7-d07a25813b35",
   "metadata": {},
   "outputs": [],
   "source": [
    "import keras\n",
    "import numpy as np\n",
    "import tensorflow as tf\n",
    "from sklearn.model_selection import train_test_split\n",
    "\n",
    "x = data.drop('median_house_value', axis=1).astype('float32')\n",
    "y = data.median_house_value\n",
    "\n",
    "#x[float_conv] = x[float_conv].astype('float32')\n",
    "x = np.asarray(x)\n",
    "\n",
    "x_train, x_test, y_train, y_test = train_test_split(x, y, test_size = 0.2, random_state = 42)"
   ]
  },
  {
   "cell_type": "code",
   "execution_count": null,
   "id": "206b5264-9228-49e7-aff1-2a5ac8f99aab",
   "metadata": {},
   "outputs": [],
   "source": [
    "# Define R2 loss function\n",
    "\n",
    "from keras import backend as K\n",
    "\n",
    "def coeff_determination(y_true, y_pred):\n",
    "    SS_res =  K.sum(K.square( y_true-y_pred )) \n",
    "    SS_tot = K.sum(K.square( y_true - K.mean(y_true) ) ) \n",
    "    return ( 1 - SS_res/(SS_tot + K.epsilon()) )"
   ]
  },
  {
   "cell_type": "code",
   "execution_count": null,
   "id": "0cd8eae4-fe27-4b32-9874-984f457479a8",
   "metadata": {},
   "outputs": [],
   "source": [
    "from keras.layers import Input\n",
    "from keras.layers import Dense\n",
    "from keras.layers import BatchNormalization\n",
    "from keras.layers import Dropout\n",
    "\n",
    "def build_model(neurons = [256, 128, 64],\n",
    "               activation_fct = 'relu',\n",
    "               dropout_rate = 0.2,\n",
    "               optimizer = tf.keras.optimizers.RMSprop()):\n",
    "    \n",
    "    inputs = Input(shape = (x_train.shape[1],))\n",
    "    \n",
    "    norm = BatchNormalization(axis = -1,\n",
    "        momentum = 0.99,\n",
    "        epsilon = 0.001,\n",
    "        center = True,\n",
    "        scale = True,\n",
    "        beta_initializer = \"zeros\",\n",
    "        gamma_initializer = \"ones\",\n",
    "        moving_mean_initializer = \"zeros\",\n",
    "        moving_variance_initializer = \"ones\")\n",
    "    \n",
    "    x = norm(inputs)\n",
    "    x = Dense(neurons[0], activation = activation_fct)(x)\n",
    "    x = Dropout(dropout_rate)(x)\n",
    "    x = Dense(neurons[1], activation = activation_fct)(x)\n",
    "    x = Dropout(dropout_rate)(x)\n",
    "    x = Dense(neurons[2], activation = activation_fct)(x)\n",
    "    outputs = Dense(1)(x)\n",
    "    \n",
    "    model = keras.Model(inputs = inputs, outputs = outputs, name = \"Housing\")\n",
    "\n",
    "    model.compile(\n",
    "        loss=tf.keras.losses.MeanAbsolutePercentageError(reduction=\"auto\", name=\"mean_absolute_percentage_error\"),\n",
    "        optimizer=optimizer,\n",
    "        metrics=[coeff_determination, 'mse'],\n",
    "    )\n",
    "    \n",
    "    return model\n"
   ]
  },
  {
   "cell_type": "code",
   "execution_count": null,
   "id": "f7c11c79-c768-4d94-b412-ee34d613192f",
   "metadata": {},
   "outputs": [],
   "source": [
    "perf = []\n",
    "i = 0\n",
    "neuron_rank = 0\n",
    "gridsearch = {'neurons': [[256, 128, 64], [128, 64, 32], [64, 32, 16]],\n",
    "            'acts': ['relu', 'tanh', 'sigmoid'],\n",
    "            'drops': [0.1, 0.2, 0.3],\n",
    "            'opts': [tf.keras.optimizers.RMSprop(), tf.keras.optimizers.Adam()]}\n",
    "\n",
    "for neuron in gridsearch['neurons']:\n",
    "    for act in gridsearch['acts']:\n",
    "        for drop in gridsearch['drops']:\n",
    "            for opt in gridsearch['opts']:\n",
    "                \n",
    "                model = build_model(neuron, act, drop, opt)\n",
    "                model.fit(x_train, y_train, batch_size=256, epochs=20, validation_split=0.4, verbose=0)\n",
    "                \n",
    "                test_scores = model.evaluate(x_test, y_test, verbose=0)\n",
    "                \n",
    "                params = [neuron, act, drop, opt, test_scores[0], test_scores[1]]\n",
    "                \n",
    "                perf.append(params)\n",
    "\n",
    "                i+=1\n",
    "    neuron_rank+=1\n",
    "\n",
    "scores = []\n",
    "for model in perf:\n",
    "    scores.append(model[-2]) # We get the score back\n",
    "best_model = np.array(scores).argmin()\n",
    "\n",
    "print('#############')\n",
    "print('The best model has parameters :')\n",
    "print('Neurons :', perf[best_model][0])\n",
    "print('Activation function :', perf[best_model][1])\n",
    "print('Dropout rate :', perf[best_model][2])\n",
    "print('Optimizer :', perf[best_model][3])\n",
    "print('For loss :', perf[best_model][4])"
   ]
  },
  {
   "cell_type": "markdown",
   "id": "73d2e534-c53a-4f68-ad21-0ee0a3cf305c",
   "metadata": {},
   "source": [
    "## Model_fillna"
   ]
  },
  {
   "cell_type": "code",
   "execution_count": 9,
   "id": "86db86c4-b46a-4069-b5b7-16fb5fb59d1f",
   "metadata": {},
   "outputs": [],
   "source": [
    "import keras\n",
    "import numpy as np\n",
    "from keras.layers import Input\n",
    "from keras.layers import Dense\n",
    "from keras.layers import BatchNormalization\n",
    "from keras.layers import Dropout\n",
    "from sklearn.metrics import confusion_matrix\n",
    "import tensorflow as tf\n",
    "from sklearn.model_selection import train_test_split\n",
    "\n",
    "x = data.drop('median_house_value', axis=1).astype('float32')\n",
    "y = data.median_house_value\n",
    "\n",
    "#x[float_conv] = x[float_conv].astype('float32')\n",
    "x = np.asarray(x)\n",
    "\n",
    "x_train, x_test, y_train, y_test = train_test_split(x, y, test_size = 0.2, random_state = 42)"
   ]
  },
  {
   "cell_type": "code",
   "execution_count": 10,
   "id": "64e5d0fc-1337-4b10-b902-b107a97c1ee0",
   "metadata": {},
   "outputs": [
    {
     "data": {
      "text/plain": [
       "Index(['longitude', 'latitude', 'housing_median_age', 'total_rooms',\n",
       "       'total_bedrooms', 'population', 'households', 'median_income'],\n",
       "      dtype='object')"
      ]
     },
     "execution_count": 10,
     "metadata": {},
     "output_type": "execute_result"
    }
   ],
   "source": [
    "data.drop('median_house_value', axis=1).columns"
   ]
  },
  {
   "cell_type": "code",
   "execution_count": 11,
   "id": "5b64b233-344e-4b6a-a668-11255e43603f",
   "metadata": {},
   "outputs": [
    {
     "name": "stdout",
     "output_type": "stream",
     "text": [
      "Model: \"housing\"\n",
      "_________________________________________________________________\n",
      " Layer (type)                Output Shape              Param #   \n",
      "=================================================================\n",
      " input_1 (InputLayer)        [(None, 8)]               0         \n",
      "                                                                 \n",
      " batch_normalization (BatchN  (None, 8)                32        \n",
      " ormalization)                                                   \n",
      "                                                                 \n",
      " dense (Dense)               (None, 32)                288       \n",
      "                                                                 \n",
      " dropout (Dropout)           (None, 32)                0         \n",
      "                                                                 \n",
      " dense_1 (Dense)             (None, 16)                528       \n",
      "                                                                 \n",
      " dropout_1 (Dropout)         (None, 16)                0         \n",
      "                                                                 \n",
      " dense_2 (Dense)             (None, 8)                 136       \n",
      "                                                                 \n",
      " dense_3 (Dense)             (None, 1)                 9         \n",
      "                                                                 \n",
      "=================================================================\n",
      "Total params: 993\n",
      "Trainable params: 977\n",
      "Non-trainable params: 16\n",
      "_________________________________________________________________\n"
     ]
    }
   ],
   "source": [
    "inputs = Input(shape = (x_train.shape[1],))\n",
    "\n",
    "norm = BatchNormalization(axis = -1,\n",
    "    momentum = 0.99,\n",
    "    epsilon = 0.001,\n",
    "    center = True,\n",
    "    scale = True,\n",
    "    beta_initializer = \"zeros\",\n",
    "    gamma_initializer = \"ones\",\n",
    "    moving_mean_initializer = \"zeros\",\n",
    "    moving_variance_initializer = \"ones\")\n",
    "\n",
    "x = norm(inputs)\n",
    "x = Dense(32, activation = 'relu')(x)\n",
    "x = Dropout(0.2)(x)\n",
    "x = Dense(16, activation = 'relu')(x)\n",
    "x = Dropout(0.2)(x)\n",
    "x = Dense(8, activation = 'relu')(x)\n",
    "outputs = Dense(1)(x)\n",
    "\n",
    "model = keras.Model(inputs=inputs, outputs=outputs, name=\"housing\")\n",
    "model.summary()"
   ]
  },
  {
   "cell_type": "code",
   "execution_count": 12,
   "id": "9ae4aa64-91e0-4843-87b6-f2c4640db014",
   "metadata": {},
   "outputs": [
    {
     "name": "stdout",
     "output_type": "stream",
     "text": [
      "129/129 - 0s - loss: 26.3785 - mse: 7180857856.0000 - 173ms/epoch - 1ms/step\n",
      "Test loss: 26.37846565246582\n",
      "Test accuracy: 7180857856.0\n"
     ]
    }
   ],
   "source": [
    "from keras import backend as K\n",
    "\n",
    "def coeff_determination(y_true, y_pred):\n",
    "    SS_res =  K.sum(K.square( y_true-y_pred )) \n",
    "    SS_tot = K.sum(K.square( y_true - K.mean(y_true) ) ) \n",
    "    return ( 1 - SS_res/(SS_tot + K.epsilon()) )\n",
    "\n",
    "model.compile(\n",
    "    loss=tf.keras.losses.MeanAbsolutePercentageError(reduction=\"auto\", name=\"mean_absolute_percentage_error\"),\n",
    "    optimizer=tf.keras.optimizers.Adam(),\n",
    "    metrics=['mse']\n",
    ")\n",
    "\n",
    "history = model.fit(x_train, y_train, batch_size=256, epochs=100, validation_split=0.4, verbose=0)\n",
    "\n",
    "test_scores = model.evaluate(x_test, y_test, verbose=2)\n",
    "print(\"Test loss:\", test_scores[0])\n",
    "print(\"Test accuracy:\", test_scores[1])"
   ]
  },
  {
   "cell_type": "code",
   "execution_count": 13,
   "id": "ffe16332-8f38-45fa-804f-7c5396450702",
   "metadata": {},
   "outputs": [
    {
     "name": "stdout",
     "output_type": "stream",
     "text": [
      "INFO:tensorflow:Assets written to: ..\\model\\nn_model\\assets\n"
     ]
    }
   ],
   "source": [
    "filepath = r'..\\model\\nn_model'\n",
    "\n",
    "model.save(filepath)"
   ]
  },
  {
   "cell_type": "code",
   "execution_count": 14,
   "id": "e60be6ee-6e4e-4db0-9939-ed8a313332da",
   "metadata": {},
   "outputs": [
    {
     "name": "stdout",
     "output_type": "stream",
     "text": [
      "dict_keys(['loss', 'mse', 'val_loss', 'val_mse'])\n"
     ]
    },
    {
     "data": {
      "image/png": "[encoded data removed]",
      "text/plain": [
       "<Figure size 432x288 with 1 Axes>"
      ]
     },
     "metadata": {
      "needs_background": "light"
     },
     "output_type": "display_data"
    },
    {
     "data": {
      "image/png": "[encoded data removed]",
      "text/plain": [
       "<Figure size 432x288 with 1 Axes>"
      ]
     },
     "metadata": {
      "needs_background": "light"
     },
     "output_type": "display_data"
    }
   ],
   "source": [
    "# Visualize training history\n",
    "from keras.models import Sequential\n",
    "from keras.layers import Dense\n",
    "import matplotlib.pyplot as plt\n",
    "import numpy\n",
    "\n",
    "print(history.history.keys())\n",
    "# summarize history for accuracy\n",
    "plt.plot(history.history['mse'])\n",
    "plt.plot(history.history['val_mse'])\n",
    "plt.title('model accuracy')\n",
    "plt.ylabel('mse')\n",
    "plt.xlabel('epoch')\n",
    "plt.legend(['train', 'test'], loc='upper left')\n",
    "plt.savefig(r'../graphs/training_nn_loss.png')\n",
    "plt.show()\n",
    "# summarize history for loss\n",
    "plt.plot(history.history['loss'])\n",
    "plt.plot(history.history['val_loss'])\n",
    "plt.title('model loss')\n",
    "plt.ylabel('loss')\n",
    "plt.xlabel('epoch')\n",
    "plt.legend(['train', 'test'], loc='upper left')\n",
    "plt.savefig(r'../graphs/training_nn_r2.png')\n",
    "plt.show()"
   ]
  },
  {
   "cell_type": "code",
   "execution_count": null,
   "id": "8341bd67-9ebc-49d8-a458-fd742768906b",
   "metadata": {},
   "outputs": [],
   "source": []
  }
 ],
 "metadata": {
  "kernelspec": {
   "display_name": "Python 3 (ipykernel)",
   "language": "python",
   "name": "python3"
  },
  "language_info": {
   "codemirror_mode": {
    "name": "ipython",
    "version": 3
   },
   "file_extension": ".py",
   "mimetype": "text/x-python",
   "name": "python",
   "nbconvert_exporter": "python",
   "pygments_lexer": "ipython3",
   "version": "3.8.12"
  }
 },
 "nbformat": 4,
 "nbformat_minor": 5
}